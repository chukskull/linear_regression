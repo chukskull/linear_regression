{
 "cells": [
  {
   "cell_type": "code",
   "execution_count": 47,
   "metadata": {},
   "outputs": [],
   "source": [
    "import pandas as pd\n",
    "import matplotlib.pyplot as plt\n",
    "import numpy as np"
   ]
  },
  {
   "cell_type": "markdown",
   "metadata": {},
   "source": [
    "## Reading Data"
   ]
  },
  {
   "cell_type": "code",
   "execution_count": 48,
   "metadata": {},
   "outputs": [
    {
     "data": {
      "text/html": [
       "<div>\n",
       "<style scoped>\n",
       "    .dataframe tbody tr th:only-of-type {\n",
       "        vertical-align: middle;\n",
       "    }\n",
       "\n",
       "    .dataframe tbody tr th {\n",
       "        vertical-align: top;\n",
       "    }\n",
       "\n",
       "    .dataframe thead th {\n",
       "        text-align: right;\n",
       "    }\n",
       "</style>\n",
       "<table border=\"1\" class=\"dataframe\">\n",
       "  <thead>\n",
       "    <tr style=\"text-align: right;\">\n",
       "      <th></th>\n",
       "      <th>km</th>\n",
       "      <th>price</th>\n",
       "    </tr>\n",
       "  </thead>\n",
       "  <tbody>\n",
       "    <tr>\n",
       "      <th>count</th>\n",
       "      <td>24.000000</td>\n",
       "      <td>24.000000</td>\n",
       "    </tr>\n",
       "    <tr>\n",
       "      <th>mean</th>\n",
       "      <td>101066.250000</td>\n",
       "      <td>6331.833333</td>\n",
       "    </tr>\n",
       "    <tr>\n",
       "      <th>std</th>\n",
       "      <td>52674.245606</td>\n",
       "      <td>1319.654193</td>\n",
       "    </tr>\n",
       "    <tr>\n",
       "      <th>min</th>\n",
       "      <td>22899.000000</td>\n",
       "      <td>3650.000000</td>\n",
       "    </tr>\n",
       "    <tr>\n",
       "      <th>25%</th>\n",
       "      <td>65020.500000</td>\n",
       "      <td>5687.500000</td>\n",
       "    </tr>\n",
       "    <tr>\n",
       "      <th>50%</th>\n",
       "      <td>83014.500000</td>\n",
       "      <td>6495.000000</td>\n",
       "    </tr>\n",
       "    <tr>\n",
       "      <th>75%</th>\n",
       "      <td>140975.000000</td>\n",
       "      <td>7115.000000</td>\n",
       "    </tr>\n",
       "    <tr>\n",
       "      <th>max</th>\n",
       "      <td>240000.000000</td>\n",
       "      <td>8290.000000</td>\n",
       "    </tr>\n",
       "  </tbody>\n",
       "</table>\n",
       "</div>"
      ],
      "text/plain": [
       "                  km        price\n",
       "count      24.000000    24.000000\n",
       "mean   101066.250000  6331.833333\n",
       "std     52674.245606  1319.654193\n",
       "min     22899.000000  3650.000000\n",
       "25%     65020.500000  5687.500000\n",
       "50%     83014.500000  6495.000000\n",
       "75%    140975.000000  7115.000000\n",
       "max    240000.000000  8290.000000"
      ]
     },
     "execution_count": 48,
     "metadata": {},
     "output_type": "execute_result"
    }
   ],
   "source": [
    "data = pd.read_csv('data.csv')\n",
    "\n",
    "data.describe()"
   ]
  },
  {
   "cell_type": "markdown",
   "metadata": {},
   "source": [
    "## Standarize Data"
   ]
  },
  {
   "cell_type": "code",
   "execution_count": 53,
   "metadata": {},
   "outputs": [
    {
     "data": {
      "text/html": [
       "<div>\n",
       "<style scoped>\n",
       "    .dataframe tbody tr th:only-of-type {\n",
       "        vertical-align: middle;\n",
       "    }\n",
       "\n",
       "    .dataframe tbody tr th {\n",
       "        vertical-align: top;\n",
       "    }\n",
       "\n",
       "    .dataframe thead th {\n",
       "        text-align: right;\n",
       "    }\n",
       "</style>\n",
       "<table border=\"1\" class=\"dataframe\">\n",
       "  <thead>\n",
       "    <tr style=\"text-align: right;\">\n",
       "      <th></th>\n",
       "      <th>km</th>\n",
       "      <th>price</th>\n",
       "    </tr>\n",
       "  </thead>\n",
       "  <tbody>\n",
       "    <tr>\n",
       "      <th>count</th>\n",
       "      <td>2.400000e+01</td>\n",
       "      <td>2.400000e+01</td>\n",
       "    </tr>\n",
       "    <tr>\n",
       "      <th>mean</th>\n",
       "      <td>1.850372e-17</td>\n",
       "      <td>2.220446e-16</td>\n",
       "    </tr>\n",
       "    <tr>\n",
       "      <th>std</th>\n",
       "      <td>1.000000e+00</td>\n",
       "      <td>1.000000e+00</td>\n",
       "    </tr>\n",
       "    <tr>\n",
       "      <th>min</th>\n",
       "      <td>-1.483975e+00</td>\n",
       "      <td>-2.032224e+00</td>\n",
       "    </tr>\n",
       "    <tr>\n",
       "      <th>25%</th>\n",
       "      <td>-6.843145e-01</td>\n",
       "      <td>-4.882592e-01</td>\n",
       "    </tr>\n",
       "    <tr>\n",
       "      <th>50%</th>\n",
       "      <td>-3.427054e-01</td>\n",
       "      <td>1.236435e-01</td>\n",
       "    </tr>\n",
       "    <tr>\n",
       "      <th>75%</th>\n",
       "      <td>7.576520e-01</td>\n",
       "      <td>5.934636e-01</td>\n",
       "    </tr>\n",
       "    <tr>\n",
       "      <th>max</th>\n",
       "      <td>2.637603e+00</td>\n",
       "      <td>1.483848e+00</td>\n",
       "    </tr>\n",
       "  </tbody>\n",
       "</table>\n",
       "</div>"
      ],
      "text/plain": [
       "                 km         price\n",
       "count  2.400000e+01  2.400000e+01\n",
       "mean   1.850372e-17  2.220446e-16\n",
       "std    1.000000e+00  1.000000e+00\n",
       "min   -1.483975e+00 -2.032224e+00\n",
       "25%   -6.843145e-01 -4.882592e-01\n",
       "50%   -3.427054e-01  1.236435e-01\n",
       "75%    7.576520e-01  5.934636e-01\n",
       "max    2.637603e+00  1.483848e+00"
      ]
     },
     "execution_count": 53,
     "metadata": {},
     "output_type": "execute_result"
    }
   ],
   "source": [
    "\n",
    "\n",
    "new_data = pd.DataFrame({\n",
    "\t'km': (data['km'] - data['km'].mean()) / data['km'].std(),\n",
    "\t'price': (data['price'] - data['price'].mean()) / data['price'].std()\n",
    "})\n",
    "\n",
    "new_data.describe()"
   ]
  },
  {
   "cell_type": "markdown",
   "metadata": {},
   "source": [
    "## Distrubation histogram"
   ]
  },
  {
   "cell_type": "code",
   "execution_count": 60,
   "metadata": {},
   "outputs": [
    {
     "data": {
      "image/png": "[encoded data removed]",
      "text/plain": [
       "<Figure size 1000x500 with 6 Axes>"
      ]
     },
     "metadata": {},
     "output_type": "display_data"
    }
   ],
   "source": [
    "fig, axs = plt.subplots(3, 2, figsize=(10, 5))\n",
    "\n",
    "axs[0, 0].hist(data['km'], bins=7)\n",
    "axs[0, 1].hist(data['price'], bins=7)\n",
    "axs[1, 0].scatter(x=data['km'], y=data['price'])\n",
    "axs[1, 1].scatter(x=new_data['km'], y=new_data['price'])\n",
    "axs[2, 0].hist(new_data['km'], bins=7)\n",
    "axs[2, 1].hist(new_data['price'], bins=7)\n",
    "\n",
    "\n",
    "\n",
    "plt.show()"
   ]
  },
  {
   "cell_type": "markdown",
   "metadata": {},
   "source": [
    "## Snagat Poc for simple linear regression using Gradient Descent"
   ]
  },
  {
   "cell_type": "markdown",
   "metadata": {},
   "source": [
    "## Linear Regression without vectorizing"
   ]
  },
  {
   "cell_type": "code",
   "execution_count": 57,
   "metadata": {},
   "outputs": [
    {
     "name": "stdout",
     "output_type": "stream",
     "text": [
      "6.813388860197202\n"
     ]
    }
   ],
   "source": [
    "def linear_regression(x, y):\n",
    "    a = b = 0\n",
    "    alpha = 0.01\n",
    "    for _ in range(1000):\n",
    "        ypred = a * x + b\n",
    "        der_a = np.sum((ypred - y) * x)\n",
    "        der_b = np.sum(ypred - y)\n",
    "        a -= alpha * der_a / len(y)\n",
    "        b -= alpha * der_b / len(y)\n",
    "    return a, b\n",
    "\n",
    "x = np.array([1, 2, 3, 4, 5])\n",
    "y = np.array([5, 7, 9, 11, 13])\n",
    "a , b = linear_regression(x, y)\n",
    "\n",
    "print(2 * a + b)"
   ]
  },
  {
   "cell_type": "markdown",
   "metadata": {},
   "source": [
    "## Linear Regression vectorized"
   ]
  },
  {
   "cell_type": "code",
   "execution_count": 61,
   "metadata": {},
   "outputs": [
    {
     "name": "stdout",
     "output_type": "stream",
     "text": [
      "11.000000009662648\n"
     ]
    }
   ],
   "source": [
    "def linear_regression_vectorize(theta,X, y):\n",
    "    alpha = 0.1\n",
    "    m = len(y)\n",
    "    for _ in range(1000):\n",
    "        ypred = X.dot(theta)\n",
    "        grad = 1/m * X.T.dot(ypred - y)\n",
    "        theta = theta - alpha * grad\n",
    "    return theta\n",
    "\n",
    "x = np.array([1, 2, 3, 4, 5])\n",
    "y = np.array([5, 7, 9, 11, 13])\n",
    "# a , b = linear_regression_vectorize(x,y)\n",
    "X = np.vstack((np.ones(len(x)), x)).T\n",
    "\n",
    "\n",
    "theta = np.zeros(2)\n",
    "theta.reshape(1,2)\n",
    "\n",
    "thetas = linear_regression_vectorize(theta, X, y)\n",
    "\n",
    "result = 4 * thetas[1] + thetas[0]\n",
    "print(result)\n"
   ]
  },
  {
   "cell_type": "markdown",
   "metadata": {},
   "source": [
    "## Now we working on real project aka ft_linear_regression"
   ]
  },
  {
   "cell_type": "code",
   "execution_count": 98,
   "metadata": {},
   "outputs": [],
   "source": [
    "%matplotlib inline"
   ]
  },
  {
   "cell_type": "code",
   "execution_count": 45,
   "metadata": {},
   "outputs": [
    {
     "name": "stdout",
     "output_type": "stream",
     "text": [
      "Fitted coefficients (custom): (2.3666254141592853e-16, -0.8561024601837492)\n",
      "thetas: 8499.506064757234, -0.02144803761318838\n"
     ]
    },
    {
     "name": "stderr",
     "output_type": "stream",
     "text": [
      "/var/folders/dn/20_wz9v90k523gyfbn33x50m0000gn/T/ipykernel_53428/1667899706.py:39: UserWarning: No data for colormapping provided via 'c'. Parameters 'cmap' will be ignored\n",
      "  ax.scatter(self.x1, self.y1, cmap='winter', label='Data points')\n"
     ]
    },
    {
     "data": {
      "image/png": "[encoded data removed]",
      "text/plain": [
       "<Figure size 640x480 with 1 Axes>"
      ]
     },
     "metadata": {},
     "output_type": "display_data"
    },
    {
     "name": "stdout",
     "output_type": "stream",
     "text": [
      "Mean Squared Error (custom): 445645.2473511696\n",
      "R-squared (custom): 0.7329747064654101\n",
      "Model Accuracy (custom): 73.297470646541%\n",
      "8421.220727469095\n"
     ]
    }
   ],
   "source": [
    "\n",
    "class LinearRegression1337:\n",
    "\tdef __init__(self):\n",
    "\t\tself.theta = np.zeros(2)\n",
    "\t\tself.iterations = 1000\n",
    "\t\tself.data = pd.read_csv('data.csv')\n",
    "\t\tself.alpha = 0.01  # learning rate\n",
    "\t\tself.m = len(self.data)\n",
    "\t\tself.x1 = np.array(self.data['km'])\n",
    "\t\tself.y1 = np.array(self.data['price'])\n",
    "\n",
    "\t\tself.mean_x1 = np.mean(self.x1)\n",
    "\t\tself.std_x1 = np.std(self.x1)\n",
    "\t\tself.mean_y1 = np.mean(self.y1)\n",
    "\t\tself.std_y1 = np.std(self.y1)\n",
    "\n",
    "\t\tself.x = (self.x1 - self.mean_x1) / self.std_x1\n",
    "\t\tself.y = (self.y1 - self.mean_y1) / self.std_y1\n",
    "\t\tself.X = np.vstack((np.ones(self.m), self.x)).T\n",
    "\n",
    "\tdef gradient_descent(self):\n",
    "\t\tfor _ in range(self.iterations):\n",
    "\t\t\ty_pred = self.X.dot(self.theta)\n",
    "\t\t\tgrad = 1/self.m * self.X.T.dot(y_pred - self.y)\n",
    "\t\t\tself.theta -= self.alpha * grad\n",
    "\t\treturn self.theta\n",
    "\n",
    "\tdef fit(self):\n",
    "\t\tself.theta = self.gradient_descent()\n",
    "\t\treturn self.theta\n",
    "\n",
    "\tdef predict(self, x):\n",
    "\t\tx_standardized = (x - self.mean_x1) / self.std_x1\n",
    "\t\tX_pred = np.vstack((np.ones(len(x_standardized)), x_standardized)).T\n",
    "\t\ty_pred_standardized = X_pred.dot(self.theta)\n",
    "\t\treturn y_pred_standardized * self.std_y1 + self.mean_y1\n",
    "\n",
    "\tdef plot_fit(self):\n",
    "\t\tfig, ax = plt.subplots()\n",
    "\t\tax.scatter(self.x1, self.y1, cmap='winter', label='Data points')\n",
    "\t\tax.plot(self.x1, self.predict(self.x1),color='red', label='line')\n",
    "\t\tax.set(ylabel='Price', xlabel='Kilometers', title=\"Ft_linear_regression\")\n",
    "\t\tax.legend()\n",
    "\t\tplt.show()\n",
    "\n",
    "\tdef mse(self):\n",
    "\t\ty_pred = self.predict(self.x1)\n",
    "\t\tmse_value = np.mean((self.y1 - y_pred) ** 2)\n",
    "\t\treturn mse_value\n",
    "\n",
    "\tdef r_squared(self):\n",
    "\t\ty_pred = self.predict(self.x1)\n",
    "\t\tss_total = np.sum((self.y1 - np.mean(self.y1)) ** 2)\n",
    "\t\tss_residual = np.sum((self.y1 - y_pred) ** 2)\n",
    "\t\tr2 = 1 - (ss_residual / ss_total)\n",
    "\t\treturn r2\n",
    "\n",
    "\tdef model_accuracy(self):\n",
    "\t\tr2 = self.r_squared()\n",
    "\t\treturn r2 * 100\n",
    "\n",
    "\tdef print_metrics(self):\n",
    "\t\tmse_value = self.mse()\n",
    "\t\tr2_value = self.r_squared()\n",
    "\t\taccuracy = self.model_accuracy()\n",
    "\t\tprint(f\"Mean Squared Error (custom): {mse_value}\")\n",
    "\t\tprint(f\"R-squared (custom): {r2_value}\")\n",
    "\t\tprint(f\"Model Accuracy (custom): {accuracy}%\")\n",
    "\tdef get_thatas(self):\n",
    "\t\ttheta1_original = self.theta[1] * (self.std_y1 / self.std_x1)\n",
    "\t\ttheta0_original = self.mean_y1 + self.std_y1 * self.theta[0] - theta1_original * self.mean_x1\n",
    "\t\treturn theta0_original , theta1_original \n",
    "\n",
    "\n",
    "# Example usage:\n",
    "model = LinearRegression1337()\n",
    "theta = model.fit()\n",
    "thetas = model.get_thatas()\n",
    "print(f\"Fitted coefficients (custom): {theta[0], theta[1]}\")\n",
    "print(f\"thetas: {thetas[0]}, {thetas[1]}\")\n",
    "model.plot_fit()\n",
    "\n",
    "# Predicting after standardization\n",
    "predictions = model.predict(np.array(model.data['km']))\n",
    "pd.DataFrame(predictions, model.data['price']).to_csv(\"predicted.csv\")\n",
    "\n",
    "# Calculate and print MSE, R-squared, and model accuracy\n",
    "model.print_metrics()\n",
    "print(3650 * thetas[1] + thetas[0])"
   ]
  },
  {
   "cell_type": "code",
   "execution_count": 43,
   "metadata": {},
   "outputs": [
    {
     "name": "stdout",
     "output_type": "stream",
     "text": [
      "3351.9770375920216\n"
     ]
    }
   ],
   "source": [
    "print(240000 * thetas[1] + thetas[0])"
   ]
  },
  {
   "cell_type": "code",
   "execution_count": null,
   "metadata": {},
   "outputs": [],
   "source": []
  }
 ],
 "metadata": {
  "kernelspec": {
   "display_name": "llms",
   "language": "python",
   "name": "python3"
  },
  "language_info": {
   "codemirror_mode": {
    "name": "ipython",
    "version": 3
   },
   "file_extension": ".py",
   "mimetype": "text/x-python",
   "name": "python",
   "nbconvert_exporter": "python",
   "pygments_lexer": "ipython3",
   "version": "3.11.11"
  }
 },
 "nbformat": 4,
 "nbformat_minor": 2
}
